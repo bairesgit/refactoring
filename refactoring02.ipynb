{
 "cells": [
  {
   "cell_type": "code",
   "execution_count": 1,
   "id": "75ca60a1",
   "metadata": {},
   "outputs": [
    {
     "name": "stdout",
     "output_type": "stream",
     "text": [
      "The longest string is \"Python\" \n"
     ]
    }
   ],
   "source": [
    "#\n",
    "\n",
    "# Create a list contains the items \"Strings\"\n",
    "items = [\"Java\", \"Python\", \"C++\", \"Rust\"]\n",
    "\n",
    "longest_word = max(items, key=len)\n",
    "\n",
    "# Show the result\n",
    "print(F\"The longest string is \\\"{longest_word}\\\" \")"
   ]
  },
  {
   "cell_type": "code",
   "execution_count": 2,
   "id": "de7eefac",
   "metadata": {},
   "outputs": [
    {
     "name": "stdout",
     "output_type": "stream",
     "text": [
      "['microsoft', 'mawdoo3']\n"
     ]
    }
   ],
   "source": [
    "# Create a list\n",
    "companies = [\"apple\", \"microsoft\", \"google\", \"mawdoo3\", \"yahoo\"]\n",
    "\n",
    "# List comprehension\n",
    "new_list = [c for c in companies if \"m\" in c]\n",
    "\n",
    "print(new_list)"
   ]
  },
  {
   "cell_type": "code",
   "execution_count": null,
   "id": "8a550fb7",
   "metadata": {},
   "outputs": [],
   "source": []
  }
 ],
 "metadata": {
  "kernelspec": {
   "display_name": "Python 3 (ipykernel)",
   "language": "python",
   "name": "python3"
  },
  "language_info": {
   "codemirror_mode": {
    "name": "ipython",
    "version": 3
   },
   "file_extension": ".py",
   "mimetype": "text/x-python",
   "name": "python",
   "nbconvert_exporter": "python",
   "pygments_lexer": "ipython3",
   "version": "3.9.12"
  }
 },
 "nbformat": 4,
 "nbformat_minor": 5
}
