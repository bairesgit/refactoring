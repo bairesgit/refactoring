{
 "cells": [
  {
   "cell_type": "code",
   "execution_count": 1,
   "id": "1a0d330f",
   "metadata": {},
   "outputs": [
    {
     "name": "stdout",
     "output_type": "stream",
     "text": [
      "Enter a number: 5\n",
      "5 is equal to 5\n"
     ]
    }
   ],
   "source": [
    "# refactoring\n",
    "\n",
    "x = 5\n",
    "\n",
    "value = input(\"Enter a number: \")\n",
    "\n",
    "y = int(value)\n",
    "\n",
    "if x < y:\n",
    "\n",
    "    print(f\"{x} is less than {y}\")\n",
    "\n",
    "elif x == y:\n",
    "\n",
    "    print(f\"{x} is equal to {y}\")\n",
    "\n",
    "else:\n",
    "\n",
    "    print(f\"{x} is more than {y}\")"
   ]
  },
  {
   "cell_type": "code",
   "execution_count": 2,
   "id": "ffc20c45",
   "metadata": {},
   "outputs": [
    {
     "name": "stdout",
     "output_type": "stream",
     "text": [
      "Enter a number:5\n",
      "5 is equal to 5\n"
     ]
    }
   ],
   "source": [
    "x = 5; y = int(input(\"Enter a number:\"))\n",
    "equality = \"is equal to\" if x == y else \"is less than\" if x < y else \"is more than\"\n",
    "print(f\"{x} {equality} {y}\")"
   ]
  },
  {
   "cell_type": "code",
   "execution_count": 5,
   "id": "e41147c5",
   "metadata": {},
   "outputs": [],
   "source": [
    "# refactoring tips\n",
    "# https://www.python-engineer.com/posts/python-refactoring-tips/\n",
    "\n",
    "# 1: Merge nested if statements\n",
    "a=1\n",
    "b=2\n",
    "if a:\n",
    "    if b:\n",
    "        pass\n",
    "\n",
    "# -> refactor\n",
    "if a and b:\n",
    "    pass"
   ]
  },
  {
   "cell_type": "code",
   "execution_count": 7,
   "id": "1dd46e76",
   "metadata": {},
   "outputs": [
    {
     "name": "stdout",
     "output_type": "stream",
     "text": [
      "True\n",
      "True\n"
     ]
    }
   ],
   "source": [
    "# 2: Use any instead of a loop\n",
    "numbers = [-1, -2, -4, 0, 3, -7]\n",
    "has_positives = False\n",
    "for n in numbers:\n",
    "    if n > 0:\n",
    "        has_positives = True\n",
    "        break\n",
    "\n",
    "print(has_positives)\n",
    "\n",
    "# -> refactor\n",
    "has_positives = any(n > 0 for n in numbers)\n",
    "\n",
    "print(has_positives)"
   ]
  },
  {
   "cell_type": "code",
   "execution_count": 16,
   "id": "b65b6284",
   "metadata": {},
   "outputs": [
    {
     "name": "stdout",
     "output_type": "stream",
     "text": [
      "['London', 'Paris', 'NY']\n",
      "['London', 'Paris', 'NY', 'London', 'Paris', 'NY']\n"
     ]
    }
   ],
   "source": [
    "# 3: Pull statements out of for/while loops\n",
    "\n",
    "buildings = ['London','Paris','NY']\n",
    "addresses = []\n",
    "\n",
    "for building in buildings:\n",
    "    city = 'London'\n",
    "    #addresses.append(building.street_address, city)\n",
    "    addresses.append(building)\n",
    "\n",
    "print(addresses)\n",
    "    \n",
    "# -> refactor\n",
    "city = 'London'\n",
    "for building in buildings:\n",
    "    #addresses.append(building.street_address, city)\n",
    "    addresses.append(building)\n",
    "    \n",
    "print(addresses)"
   ]
  },
  {
   "cell_type": "code",
   "execution_count": 17,
   "id": "a373beba",
   "metadata": {},
   "outputs": [],
   "source": [
    "# 4: Remove inline variables that are only used once and are immediately returned\n",
    "def state_attributes(self):\n",
    "    \"\"\"Return the state attributes.\"\"\"\n",
    "    state_attr = {\n",
    "        ATTR_CODE_FORMAT: self.code_format,\n",
    "        ATTR_CHANGED_BY: self.changed_by,\n",
    "    }\n",
    "    return state_attr\n",
    "\n",
    "# -> refactor\n",
    "def state_attributes(self):\n",
    "    \"\"\"Return the state attributes.\"\"\"\n",
    "    return {\n",
    "        ATTR_CODE_FORMAT: self.code_format,\n",
    "        ATTR_CHANGED_BY: self.changed_by,\n",
    "    }"
   ]
  },
  {
   "cell_type": "code",
   "execution_count": 21,
   "id": "3fe9ad81",
   "metadata": {},
   "outputs": [
    {
     "name": "stdout",
     "output_type": "stream",
     "text": [
      "1\n",
      "1\n"
     ]
    }
   ],
   "source": [
    "# 5: Replace if statement with if expression\n",
    "condition = (2 > 1)\n",
    "if condition:\n",
    "    x = 1\n",
    "else:\n",
    "    x = 2\n",
    "\n",
    "print(x)\n",
    "\n",
    "# -> refactor\n",
    "x = 1 if condition else 2\n",
    "\n",
    "print(x)"
   ]
  },
  {
   "cell_type": "code",
   "execution_count": 23,
   "id": "7b3e41d6",
   "metadata": {},
   "outputs": [],
   "source": [
    "# 6: Add a guard clause\n",
    "\n",
    "def should_i_wear_this_hat(self, hat):\n",
    "    if isinstance(hat, Hat):\n",
    "        current_fashion = get_fashion()\n",
    "        weather_outside = self.look_out_of_window()\n",
    "        is_stylish = self.evaluate_style(hat, current_fashion)\n",
    "        if weather_outside.is_raining:\n",
    "            print(\"Damn.\")\n",
    "            return True\n",
    "        else:\n",
    "            print(\"Great.\")\n",
    "            return is_stylish\n",
    "    else:\n",
    "        return False\n",
    "\n",
    "# -> refactor\n",
    "def should_i_wear_this_hat(self, hat):\n",
    "    if not isinstance(hat, Hat):\n",
    "        return False\n",
    "\n",
    "    current_fashion = get_fashion()\n",
    "    weather_outside = self.look_out_of_window()\n",
    "    is_stylish = self.evaluate_style(hat, current_fashion)\n",
    "    if weather_outside.is_raining:\n",
    "        print(\"Damn.\")\n",
    "        return True\n",
    "    else:\n",
    "        print(\"Great.\")\n",
    "        return is_stylish"
   ]
  },
  {
   "cell_type": "code",
   "execution_count": 24,
   "id": "23d69cae",
   "metadata": {},
   "outputs": [],
   "source": [
    "# 7: Move assignments closer to their usage\n",
    "\n",
    "def should_i_wear_this_hat(self, hat):\n",
    "    if not isinstance(hat, Hat):\n",
    "        return False\n",
    "\n",
    "    current_fashion = get_fashion()\n",
    "    weather_outside = self.look_out_of_window()\n",
    "    is_stylish = self.evaluate_style(hat, current_fashion)\n",
    "    if weather_outside.is_raining:\n",
    "        print(\"Damn.\")\n",
    "        return True\n",
    "    else:\n",
    "        print(\"Great.\")\n",
    "        return is_stylish\n",
    "\n",
    "# -> refactor\n",
    "def should_i_wear_this_hat(self, hat):\n",
    "    if not isinstance(hat, Hat):\n",
    "        return False\n",
    "\n",
    "    weather_outside = self.look_out_of_window()\n",
    "    if weather_outside.is_raining:\n",
    "        print(\"Damn.\")\n",
    "        return True\n",
    "    else:\n",
    "        print(\"Great.\")\n",
    "        current_fashion = get_fashion()\n",
    "        return self.evaluate_style(hat, current_fashion)\n",
    "        # is_stylish = self.evaluate_style(hat, current_fashion)\n",
    "        # return is_stylish"
   ]
  },
  {
   "cell_type": "code",
   "execution_count": 28,
   "id": "3f88d4b2",
   "metadata": {},
   "outputs": [
    {
     "name": "stdout",
     "output_type": "stream",
     "text": [
      "3\n",
      "3\n"
     ]
    }
   ],
   "source": [
    "# 8: Simplify sequence checks\n",
    "\n",
    "def choose_hat(lst):\n",
    "    return max(lst)\n",
    "\n",
    "list_of_hats = [1,2,3]\n",
    "hat_to_wear = 0\n",
    "\n",
    "if len(list_of_hats) > 0:\n",
    "    hat_to_wear = choose_hat(list_of_hats)\n",
    "\n",
    "print(hat_to_wear)\n",
    "    \n",
    "# -> refactor\n",
    "if list_of_hats:\n",
    "    hat_to_wear = choose_hat(list_of_hats)\n",
    "    \n",
    "print(hat_to_wear)"
   ]
  },
  {
   "cell_type": "code",
   "execution_count": null,
   "id": "5ede4b30",
   "metadata": {},
   "outputs": [],
   "source": [
    "'''\n",
    "NOTE:\n",
    "=> Bonus: Free VS Code/PyCharm Refactoring Extension:\n",
    "There exists an extension for VS Code and PyCharm \n",
    "that helps you identify these refactoring patterns. \n",
    "This extension is Sourcery. \n",
    "Sourcery is a free extension that you can easily install and which then \n",
    "gives you helpful refactoring hints. You can install and test it here: Sourcery.ai \n",
    "'''\n"
   ]
  },
  {
   "cell_type": "code",
   "execution_count": 29,
   "id": "2e02a4fd",
   "metadata": {},
   "outputs": [],
   "source": [
    "# 1.1 no refactored\n",
    "def list_comprehension(list, filter, func):\n",
    "    new_list = list()\n",
    "    for i in list:\n",
    "        if filter(i):\n",
    "            new_list.append(func(i))\n",
    "    return new_list\n",
    "\n",
    "\n",
    "def augmented_assignment():\n",
    "    a = 0\n",
    "    a = a + 1\n",
    "    print(a)\n",
    "\n",
    "\n",
    "def sort_out_return():\n",
    "    if something == other_thing:\n",
    "        return True\n",
    "    return False\n",
    "\n",
    "\n",
    "def dictionary_get():\n",
    "    dictionary = {}\n",
    "    data = \"\"\n",
    "    if \"message\" in dictionary:\n",
    "        data = dictionary[\"message\"]"
   ]
  },
  {
   "cell_type": "code",
   "execution_count": null,
   "id": "3c532fda",
   "metadata": {},
   "outputs": [],
   "source": [
    "# 1.2 yes refactored\n",
    "\n",
    "def enable_local(self, opt):\n",
    "  if opt == ECHO:\n",
    "    return True\n",
    "  elif opt == SGA:\n",
    "    return True\n",
    "  else:\n",
    "    return False\n",
    "\n",
    "\n",
    "def __getstate__(self):\n",
    "  state = {}\n",
    "  state['min'] = self.min\n",
    "  state['max'] = self.max\n",
    "  return state"
   ]
  },
  {
   "cell_type": "code",
   "execution_count": null,
   "id": "9186f17e",
   "metadata": {},
   "outputs": [],
   "source": []
  }
 ],
 "metadata": {
  "kernelspec": {
   "display_name": "Python 3 (ipykernel)",
   "language": "python",
   "name": "python3"
  },
  "language_info": {
   "codemirror_mode": {
    "name": "ipython",
    "version": 3
   },
   "file_extension": ".py",
   "mimetype": "text/x-python",
   "name": "python",
   "nbconvert_exporter": "python",
   "pygments_lexer": "ipython3",
   "version": "3.9.12"
  }
 },
 "nbformat": 4,
 "nbformat_minor": 5
}
